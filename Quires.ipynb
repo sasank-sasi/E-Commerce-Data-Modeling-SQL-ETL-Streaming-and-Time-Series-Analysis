{
 "cells": [
  {
   "cell_type": "code",
   "execution_count": 19,
   "metadata": {},
   "outputs": [
    {
     "name": "stdout",
     "output_type": "stream",
     "text": [
      "Top 5 customers with highest average order amounts in the last 6 months:\n",
      "                 Name  avg_order_amount\n",
      "0    Tammy Richardson             254.0\n",
      "1     Jeffrey Aguilar             253.0\n",
      "2  Samantha Rodriguez             190.0\n",
      "3  Crystal Taylor DDS             184.0\n",
      "4      Kimberly Smith             175.0\n",
      "   cid        name     type  notnull dflt_value  pk\n",
      "0    0     OrderID  INTEGER        0       None   0\n",
      "1    1  CustomerID  INTEGER        0       None   0\n",
      "2    2   OrderDate     TEXT        0       None   0\n",
      "   cid        name     type  notnull dflt_value  pk\n",
      "0    0  CustomerID  INTEGER        0       None   0\n",
      "1    1        Name     TEXT        0       None   0\n",
      "2    2       Email     TEXT        0       None   0\n"
     ]
    }
   ],
   "source": [
    "import pandas as pd\n",
    "import sqlite3\n",
    "import csvkit\n",
    "\n",
    "# Read the CSV files\n",
    "customers = pd.read_csv('/Users/sasanksasi/Downloads/project/untitled folder/customers.csv')\n",
    "customer_addresses = pd.read_csv('/Users/sasanksasi/Downloads/project/untitled folder/customer_addresses.csv')\n",
    "products = pd.read_csv('/Users/sasanksasi/Downloads/project/untitled folder/products.csv')\n",
    "product_variants = pd.read_csv('/Users/sasanksasi/Downloads/project/untitled folder/product_variants.csv')\n",
    "product_prices = pd.read_csv('/Users/sasanksasi/Downloads/project/untitled folder/product_pricing.csv')\n",
    "orders = pd.read_csv('/Users/sasanksasi/Downloads/project/untitled folder/orders.csv')\n",
    "order_items = pd.read_csv('/Users/sasanksasi/Downloads/project/untitled folder/order_items.csv')\n",
    "\n",
    "# Create a database connection\n",
    "# Create a SQLite database\n",
    "conn = sqlite3.connect('database.db')\n",
    "\n",
    "# Load the CSV data into the SQLite database\n",
    "customers.to_sql('customers', conn, if_exists='replace', index=False)\n",
    "customer_addresses.to_sql('customer_addresses', conn, if_exists='replace', index=False)\n",
    "products.to_sql('products', conn, if_exists='replace', index=False)\n",
    "product_variants.to_sql('product_variants', conn, if_exists='replace', index=False)\n",
    "product_prices.to_sql('product_prices', conn, if_exists='replace', index=False)\n",
    "orders.to_sql('orders', conn, if_exists='replace', index=False)\n",
    "order_items.to_sql('order_items', conn, if_exists='replace', index=False)\n",
    "\n",
    "# Define the SQL queries\n",
    "query1 = \"\"\"\n",
    "    WITH recent_orders AS (\n",
    "      SELECT o.CustomerID, SUM(oi.Quantity * pp.Price) AS total_amount, COUNT(*) AS order_count\n",
    "      FROM orders o\n",
    "      JOIN order_items oi ON o.OrderID = oi.OrderID\n",
    "      JOIN product_prices pp ON oi.VariantID = pp.VariantID\n",
    "      WHERE o.OrderDate >= DATE('now', '-6 months')\n",
    "      GROUP BY o.CustomerID\n",
    "    )\n",
    "    SELECT c.Name, AVG(total_amount / order_count) AS avg_order_amount\n",
    "    FROM recent_orders ro\n",
    "    JOIN customers c ON ro.CustomerID = c.CustomerID\n",
    "    GROUP BY c.Name\n",
    "    ORDER BY avg_order_amount DESC\n",
    "    LIMIT 5;\n",
    "\"\"\"\n",
    "\n",
    "# Execute the SQL queries\n",
    "result1 = pd.read_sql_query(query1, conn)\n",
    "\n",
    "# Print the results\n",
    "print(\"Top 5 customers with highest average order amounts in the last 6 months:\")\n",
    "print(result1)\n",
    "query = \"PRAGMA table_info(orders)\"\n",
    "result = pd.read_sql_query(query, conn)\n",
    "print(result)\n",
    "\n",
    "query = \"PRAGMA table_info(customers)\"\n",
    "result = pd.read_sql_query(query, conn)\n",
    "print(result)\n"
   ]
  },
  {
   "cell_type": "code",
   "execution_count": 18,
   "metadata": {},
   "outputs": [
    {
     "name": "stdout",
     "output_type": "stream",
     "text": [
      "Customers columns: Index(['CustomerID', 'Name', 'Email'], dtype='object')\n",
      "Customer Addresses columns: Index(['AddressID', 'CustomerID', 'Address'], dtype='object')\n",
      "Products columns: Index(['ProductID', 'Name', 'Description'], dtype='object')\n",
      "Product Variants columns: Index(['VariantID', 'ProductID', 'Attribute1', 'Attribute2'], dtype='object')\n",
      "Product Prices columns: Index(['PricingID', 'VariantID', 'Price', 'EffectiveDate'], dtype='object')\n",
      "Orders columns: Index(['OrderID', 'CustomerID', 'OrderDate'], dtype='object')\n",
      "Order Items columns: Index(['ItemID', 'OrderID', 'VariantID', 'Quantity'], dtype='object')\n"
     ]
    }
   ],
   "source": [
    "print(\"Customers columns:\", customers.columns)\n",
    "print(\"Customer Addresses columns:\", customer_addresses.columns)\n",
    "print(\"Products columns:\", products.columns)\n",
    "print(\"Product Variants columns:\", product_variants.columns)\n",
    "print(\"Product Prices columns:\", product_prices.columns)\n",
    "print(\"Orders columns:\", orders.columns)\n",
    "print(\"Order Items columns:\", order_items.columns)"
   ]
  },
  {
   "cell_type": "code",
   "execution_count": 20,
   "metadata": {},
   "outputs": [
    {
     "name": "stdout",
     "output_type": "stream",
     "text": [
      "\n",
      "Customers with lower order value this year compared to previous year:\n",
      "                 Name\n",
      "0  Samantha Rodriguez\n",
      "1    Tammy Richardson\n",
      "2       Manuel Graves\n"
     ]
    }
   ],
   "source": [
    "query2 = \"\"\"\n",
    "    WITH this_year_orders AS (\n",
    "      SELECT o.CustomerID, SUM(oi.Quantity * pp.Price) AS this_year_total\n",
    "      FROM orders o\n",
    "      JOIN order_items oi ON o.OrderID = oi.OrderID\n",
    "      JOIN product_prices pp ON oi.VariantID = pp.VariantID\n",
    "      WHERE strftime('%Y', o.OrderDate) = strftime('%Y', 'now')\n",
    "      GROUP BY o.CustomerID\n",
    "    ),\n",
    "    last_year_orders AS (\n",
    "      SELECT o.CustomerID, SUM(oi.Quantity * pp.Price) AS last_year_total\n",
    "      FROM orders o\n",
    "      JOIN order_items oi ON o.OrderID = oi.OrderID\n",
    "      JOIN product_prices pp ON oi.VariantID = pp.VariantID\n",
    "      WHERE strftime('%Y', o.OrderDate) = strftime('%Y', date('now','-1 year'))\n",
    "      GROUP BY o.CustomerID\n",
    "    )\n",
    "    SELECT c.Name\n",
    "    FROM this_year_orders ty\n",
    "    JOIN last_year_orders ly ON ty.CustomerID = ly.CustomerID\n",
    "    JOIN customers c ON ty.CustomerID = c.CustomerID\n",
    "    WHERE ty.this_year_total < ly.last_year_total;\n",
    "\"\"\"\n",
    "result2 = pd.read_sql_query(query2, conn)\n",
    "print(\"\\nCustomers with lower order value this year compared to previous year:\")\n",
    "print(result2)"
   ]
  },
  {
   "cell_type": "code",
   "execution_count": 21,
   "metadata": {},
   "outputs": [
    {
     "name": "stdout",
     "output_type": "stream",
     "text": [
      "\n",
      "Cumulative purchase by customer 1, broken down by product:\n",
      "                    product_name  cumulative_amount\n",
      "0  transition granular paradigms               2584\n"
     ]
    }
   ],
   "source": [
    "customer_id = 1  # Replace with the desired customer ID\n",
    "query3 = \"\"\"\n",
    "    WITH customer_orders AS (\n",
    "      SELECT pv.ProductID, SUM(oi.Quantity * pp.Price) AS total_amount\n",
    "      FROM orders o\n",
    "      JOIN order_items oi ON o.OrderID = oi.OrderID\n",
    "      JOIN product_variants pv ON oi.VariantID = pv.VariantID\n",
    "      JOIN product_prices pp ON pv.VariantID = pp.VariantID\n",
    "      WHERE o.CustomerID = ?\n",
    "      GROUP BY pv.ProductID\n",
    "    )\n",
    "    SELECT p.Name AS product_name, SUM(total_amount) AS cumulative_amount\n",
    "    FROM customer_orders co\n",
    "    JOIN products p ON co.ProductID = p.ProductID\n",
    "    GROUP BY product_name\n",
    "    ORDER BY cumulative_amount DESC;\n",
    "\"\"\"\n",
    "result3 = pd.read_sql_query(query3, conn, params=(customer_id,))\n",
    "print(f\"\\nCumulative purchase by customer {customer_id}, broken down by product:\")\n",
    "print(result3)"
   ]
  },
  {
   "cell_type": "code",
   "execution_count": 24,
   "metadata": {},
   "outputs": [
    {
     "name": "stdout",
     "output_type": "stream",
     "text": [
      "\n",
      "Top 5 selling products, bifurcated by product variants:\n",
      "                          product_name         variant  total_amount\n",
      "0  disintermediate visionary solutions     reflect cup          3077\n",
      "1       optimize end-to-end e-commerce  Democrat woman          2100\n",
      "2           grow visionary initiatives        safe eye          1845\n",
      "3      e-enable intuitive partnerships  region section          1781\n",
      "4      e-enable intuitive partnerships    still during          1512\n"
     ]
    }
   ],
   "source": [
    "query4 = \"\"\"\n",
    "    WITH product_sales AS (\n",
    "      SELECT pv.ProductID, pv.VariantID, SUM(oi.Quantity * pp.Price) AS total_amount\n",
    "      FROM Orders o\n",
    "      JOIN Order_Items oi ON o.OrderID = oi.OrderID\n",
    "      JOIN Product_Variants pv ON oi.VariantID = pv.VariantID\n",
    "      JOIN Product_Prices pp ON pv.VariantID = pp.VariantID\n",
    "      GROUP BY pv.ProductID, pv.VariantID\n",
    "    )\n",
    "    SELECT p.Name AS product_name, pv.Attribute1 || ' ' || pv.Attribute2 AS variant, total_amount\n",
    "    FROM product_sales ps\n",
    "    JOIN Products p ON ps.ProductID = p.ProductID\n",
    "    JOIN Product_Variants pv ON ps.VariantID = pv.VariantID\n",
    "    ORDER BY total_amount DESC\n",
    "    LIMIT 5;\n",
    "\"\"\"\n",
    "result4 = pd.read_sql_query(query4, conn)\n",
    "print(\"\\nTop 5 selling products, bifurcated by product variants:\")\n",
    "print(result4)"
   ]
  },
  {
   "cell_type": "code",
   "execution_count": 25,
   "metadata": {},
   "outputs": [],
   "source": [
    "conn.close()"
   ]
  }
 ],
 "metadata": {
  "kernelspec": {
   "display_name": "venv",
   "language": "python",
   "name": "python3"
  },
  "language_info": {
   "codemirror_mode": {
    "name": "ipython",
    "version": 3
   },
   "file_extension": ".py",
   "mimetype": "text/x-python",
   "name": "python",
   "nbconvert_exporter": "python",
   "pygments_lexer": "ipython3",
   "version": "3.12.3"
  }
 },
 "nbformat": 4,
 "nbformat_minor": 2
}
